{
 "cells": [
  {
   "cell_type": "code",
   "execution_count": 2,
   "id": "abandoned-polls",
   "metadata": {
    "scrolled": true
   },
   "outputs": [
    {
     "name": "stdout",
     "output_type": "stream",
     "text": [
      "\u001b[33mWARNING: Ignoring invalid distribution -andas (/home/ay/.pyenv/versions/3.7.6/lib/python3.7/site-packages)\u001b[0m\n",
      "\u001b[33mWARNING: Ignoring invalid distribution -andas (/home/ay/.pyenv/versions/3.7.6/lib/python3.7/site-packages)\u001b[0m\n",
      "\u001b[33mWARNING: Ignoring invalid distribution -andas (/home/ay/.pyenv/versions/3.7.6/lib/python3.7/site-packages)\u001b[0m\n",
      "\u001b[33mWARNING: Ignoring invalid distribution -andas (/home/ay/.pyenv/versions/3.7.6/lib/python3.7/site-packages)\u001b[0m\n",
      "\u001b[33mWARNING: Ignoring invalid distribution -andas (/home/ay/.pyenv/versions/3.7.6/lib/python3.7/site-packages)\u001b[0m\n"
     ]
    }
   ],
   "source": [
    "! pip install -Uq pandas fastparquet"
   ]
  },
  {
   "cell_type": "code",
   "execution_count": 3,
   "id": "fifth-sociology",
   "metadata": {},
   "outputs": [],
   "source": [
    "import pandas as pd"
   ]
  },
  {
   "cell_type": "code",
   "execution_count": 4,
   "id": "unique-vocabulary",
   "metadata": {},
   "outputs": [],
   "source": [
    "DATA_PATH = '../data'"
   ]
  },
  {
   "cell_type": "code",
   "execution_count": 5,
   "id": "built-diary",
   "metadata": {},
   "outputs": [
    {
     "name": "stdout",
     "output_type": "stream",
     "text": [
      "data_cleaned.csv  data_raw.parquet\r\n"
     ]
    }
   ],
   "source": [
    "! ls {DATA_PATH}"
   ]
  },
  {
   "cell_type": "code",
   "execution_count": 7,
   "id": "divided-exchange",
   "metadata": {},
   "outputs": [
    {
     "data": {
      "text/html": [
       "<div>\n",
       "<style scoped>\n",
       "    .dataframe tbody tr th:only-of-type {\n",
       "        vertical-align: middle;\n",
       "    }\n",
       "\n",
       "    .dataframe tbody tr th {\n",
       "        vertical-align: top;\n",
       "    }\n",
       "\n",
       "    .dataframe thead th {\n",
       "        text-align: right;\n",
       "    }\n",
       "</style>\n",
       "<table border=\"1\" class=\"dataframe\">\n",
       "  <thead>\n",
       "    <tr style=\"text-align: right;\">\n",
       "      <th></th>\n",
       "      <th>timestamp</th>\n",
       "      <th>country_code</th>\n",
       "      <th>last_order_ts</th>\n",
       "      <th>first_order_ts</th>\n",
       "      <th>total_orders</th>\n",
       "      <th>voucher_amount</th>\n",
       "    </tr>\n",
       "  </thead>\n",
       "  <tbody>\n",
       "    <tr>\n",
       "      <th>0</th>\n",
       "      <td>2020-05-20 15:43:38.364972+00:00</td>\n",
       "      <td>China</td>\n",
       "      <td>2020-04-19 00:00:00+00:00</td>\n",
       "      <td>2020-04-18 00:00:00+00:00</td>\n",
       "      <td>0.0</td>\n",
       "      <td>5720.0</td>\n",
       "    </tr>\n",
       "    <tr>\n",
       "      <th>1</th>\n",
       "      <td>2020-05-20 15:43:47.914346+00:00</td>\n",
       "      <td>China</td>\n",
       "      <td>2020-04-19 00:00:00+00:00</td>\n",
       "      <td>2020-04-13 00:00:00+00:00</td>\n",
       "      <td>1.0</td>\n",
       "      <td>8800.0</td>\n",
       "    </tr>\n",
       "    <tr>\n",
       "      <th>2</th>\n",
       "      <td>2020-05-20 15:36:56.866239+00:00</td>\n",
       "      <td>China</td>\n",
       "      <td>2020-04-19 00:00:00+00:00</td>\n",
       "      <td>2020-04-15 00:00:00+00:00</td>\n",
       "      <td>0.0</td>\n",
       "      <td>1760.0</td>\n",
       "    </tr>\n",
       "    <tr>\n",
       "      <th>3</th>\n",
       "      <td>2020-05-20 15:00:33.694108+00:00</td>\n",
       "      <td>China</td>\n",
       "      <td>2020-04-19 00:00:00+00:00</td>\n",
       "      <td>2020-04-13 00:00:00+00:00</td>\n",
       "      <td></td>\n",
       "      <td>1760.0</td>\n",
       "    </tr>\n",
       "    <tr>\n",
       "      <th>4</th>\n",
       "      <td>2020-05-20 15:43:18.521402+00:00</td>\n",
       "      <td>China</td>\n",
       "      <td>2020-04-19 00:00:00+00:00</td>\n",
       "      <td>2020-04-14 00:00:00+00:00</td>\n",
       "      <td>3.0</td>\n",
       "      <td>8800.0</td>\n",
       "    </tr>\n",
       "    <tr>\n",
       "      <th>...</th>\n",
       "      <td>...</td>\n",
       "      <td>...</td>\n",
       "      <td>...</td>\n",
       "      <td>...</td>\n",
       "      <td>...</td>\n",
       "      <td>...</td>\n",
       "    </tr>\n",
       "    <tr>\n",
       "      <th>511422</th>\n",
       "      <td>2020-04-03 18:31:36.635072+00:00</td>\n",
       "      <td>Latvia</td>\n",
       "      <td>2020-01-04 00:00:00+00:00</td>\n",
       "      <td>2019-10-30 00:00:00+00:00</td>\n",
       "      <td>27.0</td>\n",
       "      <td>4400.0</td>\n",
       "    </tr>\n",
       "    <tr>\n",
       "      <th>511423</th>\n",
       "      <td>2020-04-03 18:33:32.365196+00:00</td>\n",
       "      <td>Latvia</td>\n",
       "      <td>2020-01-04 00:00:00+00:00</td>\n",
       "      <td>2019-08-29 00:00:00+00:00</td>\n",
       "      <td>10.0</td>\n",
       "      <td>4400.0</td>\n",
       "    </tr>\n",
       "    <tr>\n",
       "      <th>511424</th>\n",
       "      <td>2020-04-03 19:23:07.711424+00:00</td>\n",
       "      <td>Peru</td>\n",
       "      <td>2020-01-04 00:00:00+00:00</td>\n",
       "      <td>2019-10-14 00:00:00+00:00</td>\n",
       "      <td>47.0</td>\n",
       "      <td>4400.0</td>\n",
       "    </tr>\n",
       "    <tr>\n",
       "      <th>511425</th>\n",
       "      <td>2020-04-03 19:19:06.162203+00:00</td>\n",
       "      <td>Australia</td>\n",
       "      <td>2020-01-04 00:00:00+00:00</td>\n",
       "      <td>2019-09-24 00:00:00+00:00</td>\n",
       "      <td>2.0</td>\n",
       "      <td>11000.0</td>\n",
       "    </tr>\n",
       "    <tr>\n",
       "      <th>511426</th>\n",
       "      <td>2020-04-03 19:23:30.054641+00:00</td>\n",
       "      <td>Australia</td>\n",
       "      <td>2020-01-04 00:00:00+00:00</td>\n",
       "      <td>2019-09-16 00:00:00+00:00</td>\n",
       "      <td>2.0</td>\n",
       "      <td>11000.0</td>\n",
       "    </tr>\n",
       "  </tbody>\n",
       "</table>\n",
       "<p>511427 rows × 6 columns</p>\n",
       "</div>"
      ],
      "text/plain": [
       "                               timestamp country_code  \\\n",
       "0       2020-05-20 15:43:38.364972+00:00        China   \n",
       "1       2020-05-20 15:43:47.914346+00:00        China   \n",
       "2       2020-05-20 15:36:56.866239+00:00        China   \n",
       "3       2020-05-20 15:00:33.694108+00:00        China   \n",
       "4       2020-05-20 15:43:18.521402+00:00        China   \n",
       "...                                  ...          ...   \n",
       "511422  2020-04-03 18:31:36.635072+00:00       Latvia   \n",
       "511423  2020-04-03 18:33:32.365196+00:00       Latvia   \n",
       "511424  2020-04-03 19:23:07.711424+00:00         Peru   \n",
       "511425  2020-04-03 19:19:06.162203+00:00    Australia   \n",
       "511426  2020-04-03 19:23:30.054641+00:00    Australia   \n",
       "\n",
       "                    last_order_ts            first_order_ts total_orders  \\\n",
       "0       2020-04-19 00:00:00+00:00 2020-04-18 00:00:00+00:00          0.0   \n",
       "1       2020-04-19 00:00:00+00:00 2020-04-13 00:00:00+00:00          1.0   \n",
       "2       2020-04-19 00:00:00+00:00 2020-04-15 00:00:00+00:00          0.0   \n",
       "3       2020-04-19 00:00:00+00:00 2020-04-13 00:00:00+00:00                \n",
       "4       2020-04-19 00:00:00+00:00 2020-04-14 00:00:00+00:00          3.0   \n",
       "...                           ...                       ...          ...   \n",
       "511422  2020-01-04 00:00:00+00:00 2019-10-30 00:00:00+00:00         27.0   \n",
       "511423  2020-01-04 00:00:00+00:00 2019-08-29 00:00:00+00:00         10.0   \n",
       "511424  2020-01-04 00:00:00+00:00 2019-10-14 00:00:00+00:00         47.0   \n",
       "511425  2020-01-04 00:00:00+00:00 2019-09-24 00:00:00+00:00          2.0   \n",
       "511426  2020-01-04 00:00:00+00:00 2019-09-16 00:00:00+00:00          2.0   \n",
       "\n",
       "        voucher_amount  \n",
       "0               5720.0  \n",
       "1               8800.0  \n",
       "2               1760.0  \n",
       "3               1760.0  \n",
       "4               8800.0  \n",
       "...                ...  \n",
       "511422          4400.0  \n",
       "511423          4400.0  \n",
       "511424          4400.0  \n",
       "511425         11000.0  \n",
       "511426         11000.0  \n",
       "\n",
       "[511427 rows x 6 columns]"
      ]
     },
     "execution_count": 7,
     "metadata": {},
     "output_type": "execute_result"
    }
   ],
   "source": [
    "df = pd.read_parquet(f'{DATA_PATH}/data.parquet', engine='fastparquet')\n",
    "df"
   ]
  },
  {
   "cell_type": "markdown",
   "id": "advance-diamond",
   "metadata": {},
   "source": [
    "---\n",
    "Now we want to cleanup timestamp columns to `datetime`:"
   ]
  },
  {
   "cell_type": "code",
   "execution_count": 8,
   "id": "oriented-batch",
   "metadata": {},
   "outputs": [
    {
     "data": {
      "text/plain": [
       "timestamp         0\n",
       "country_code      0\n",
       "last_order_ts     0\n",
       "first_order_ts    0\n",
       "total_orders      0\n",
       "voucher_amount    0\n",
       "dtype: int64"
      ]
     },
     "execution_count": 8,
     "metadata": {},
     "output_type": "execute_result"
    }
   ],
   "source": [
    "df[df['timestamp'].isna()].count()"
   ]
  },
  {
   "cell_type": "code",
   "execution_count": 9,
   "id": "fitting-asian",
   "metadata": {},
   "outputs": [
    {
     "data": {
      "text/plain": [
       "timestamp         0\n",
       "country_code      0\n",
       "last_order_ts     0\n",
       "first_order_ts    0\n",
       "total_orders      0\n",
       "voucher_amount    0\n",
       "dtype: int64"
      ]
     },
     "execution_count": 9,
     "metadata": {},
     "output_type": "execute_result"
    }
   ],
   "source": [
    "df[df['first_order_ts'].isna()].count()"
   ]
  },
  {
   "cell_type": "code",
   "execution_count": 10,
   "id": "general-produce",
   "metadata": {},
   "outputs": [
    {
     "data": {
      "text/plain": [
       "timestamp         0\n",
       "country_code      0\n",
       "last_order_ts     0\n",
       "first_order_ts    0\n",
       "total_orders      0\n",
       "voucher_amount    0\n",
       "dtype: int64"
      ]
     },
     "execution_count": 10,
     "metadata": {},
     "output_type": "execute_result"
    }
   ],
   "source": [
    "df[df['last_order_ts'].isna()].count()"
   ]
  },
  {
   "cell_type": "markdown",
   "id": "related-secret",
   "metadata": {},
   "source": [
    "OK so there's no NaN timestamps, we can safely convert it to `datetime`"
   ]
  },
  {
   "cell_type": "code",
   "execution_count": 11,
   "id": "atlantic-extension",
   "metadata": {},
   "outputs": [],
   "source": [
    "for col in ['timestamp', 'first_order_ts', 'last_order_ts']:\n",
    "    df[col] = pd.to_datetime(df[col])"
   ]
  },
  {
   "cell_type": "code",
   "execution_count": 12,
   "id": "meaningful-porcelain",
   "metadata": {
    "scrolled": true
   },
   "outputs": [
    {
     "name": "stdout",
     "output_type": "stream",
     "text": [
      "<class 'pandas.core.frame.DataFrame'>\n",
      "RangeIndex: 511427 entries, 0 to 511426\n",
      "Data columns (total 6 columns):\n",
      " #   Column          Non-Null Count   Dtype              \n",
      "---  ------          --------------   -----              \n",
      " 0   timestamp       511427 non-null  datetime64[ns, UTC]\n",
      " 1   country_code    511427 non-null  object             \n",
      " 2   last_order_ts   511427 non-null  datetime64[ns, UTC]\n",
      " 3   first_order_ts  511427 non-null  datetime64[ns, UTC]\n",
      " 4   total_orders    511427 non-null  object             \n",
      " 5   voucher_amount  481860 non-null  float64            \n",
      "dtypes: datetime64[ns, UTC](3), float64(1), object(2)\n",
      "memory usage: 23.4+ MB\n"
     ]
    }
   ],
   "source": [
    "df.info()"
   ]
  },
  {
   "cell_type": "markdown",
   "id": "objective-trailer",
   "metadata": {},
   "source": [
    "---\n",
    "Now we want to cleanup column `total_orders`: type should be `int`"
   ]
  },
  {
   "cell_type": "code",
   "execution_count": 13,
   "id": "mineral-hunter",
   "metadata": {},
   "outputs": [
    {
     "data": {
      "text/plain": [
       "dtype('O')"
      ]
     },
     "execution_count": 13,
     "metadata": {},
     "output_type": "execute_result"
    }
   ],
   "source": [
    "df['total_orders'].dtype"
   ]
  },
  {
   "cell_type": "markdown",
   "id": "infrared-import",
   "metadata": {},
   "source": [
    "So the column `total_orders` is of type Python object. We want to convert it all to `int` if possible without information loss, otherwise to `float`."
   ]
  },
  {
   "cell_type": "code",
   "execution_count": 14,
   "id": "agreed-binary",
   "metadata": {},
   "outputs": [],
   "source": [
    "## The following code fails with:\n",
    "## 'ValueError: could not convert string to float: '\n",
    "## which means that some objects are None or empty strings or whatever.\n",
    "\n",
    "# df['total_orders'].astype('float')"
   ]
  },
  {
   "cell_type": "code",
   "execution_count": 15,
   "id": "answering-bullet",
   "metadata": {},
   "outputs": [
    {
     "data": {
      "text/plain": [
       "511427"
      ]
     },
     "execution_count": 15,
     "metadata": {},
     "output_type": "execute_result"
    }
   ],
   "source": [
    "# Total:\n",
    "df['total_orders'].count()"
   ]
  },
  {
   "cell_type": "code",
   "execution_count": 16,
   "id": "comfortable-preview",
   "metadata": {},
   "outputs": [
    {
     "data": {
      "text/plain": [
       "0"
      ]
     },
     "execution_count": 16,
     "metadata": {},
     "output_type": "execute_result"
    }
   ],
   "source": [
    "# NaN:\n",
    "df[ df['total_orders'].isna() ]['timestamp'].count()"
   ]
  },
  {
   "cell_type": "code",
   "execution_count": 17,
   "id": "charitable-gardening",
   "metadata": {},
   "outputs": [
    {
     "data": {
      "text/plain": [
       "0"
      ]
     },
     "execution_count": 17,
     "metadata": {},
     "output_type": "execute_result"
    }
   ],
   "source": [
    "# None:\n",
    "df['total_orders'].apply(lambda x: x is None).sum()"
   ]
  },
  {
   "cell_type": "code",
   "execution_count": 18,
   "id": "focused-argument",
   "metadata": {},
   "outputs": [
    {
     "data": {
      "text/plain": [
       "40914"
      ]
     },
     "execution_count": 18,
     "metadata": {},
     "output_type": "execute_result"
    }
   ],
   "source": [
    "# Empty strings:\n",
    "df['total_orders'].apply(lambda x: x == '').sum()"
   ]
  },
  {
   "cell_type": "markdown",
   "id": "south-jacket",
   "metadata": {},
   "source": [
    "OK so the wrong objects are empty strings. We'll set `0.0` instead."
   ]
  },
  {
   "cell_type": "code",
   "execution_count": 19,
   "id": "entitled-wildlife",
   "metadata": {},
   "outputs": [
    {
     "data": {
      "text/plain": [
       "True"
      ]
     },
     "execution_count": 19,
     "metadata": {},
     "output_type": "execute_result"
    }
   ],
   "source": [
    "# Let's see if we can convert all strings to floats and see if they can be integers:\n",
    "df['total_orders'].apply(lambda x: float(x or '0.0').is_integer()).all()"
   ]
  },
  {
   "cell_type": "markdown",
   "id": "veterinary-scott",
   "metadata": {},
   "source": [
    "The check above shows that now all `total_orders` can be converted to `int`. Let's do it:"
   ]
  },
  {
   "cell_type": "code",
   "execution_count": 20,
   "id": "confident-intelligence",
   "metadata": {},
   "outputs": [
    {
     "data": {
      "text/html": [
       "<div>\n",
       "<style scoped>\n",
       "    .dataframe tbody tr th:only-of-type {\n",
       "        vertical-align: middle;\n",
       "    }\n",
       "\n",
       "    .dataframe tbody tr th {\n",
       "        vertical-align: top;\n",
       "    }\n",
       "\n",
       "    .dataframe thead th {\n",
       "        text-align: right;\n",
       "    }\n",
       "</style>\n",
       "<table border=\"1\" class=\"dataframe\">\n",
       "  <thead>\n",
       "    <tr style=\"text-align: right;\">\n",
       "      <th></th>\n",
       "      <th>timestamp</th>\n",
       "      <th>country_code</th>\n",
       "      <th>last_order_ts</th>\n",
       "      <th>first_order_ts</th>\n",
       "      <th>total_orders</th>\n",
       "      <th>voucher_amount</th>\n",
       "    </tr>\n",
       "  </thead>\n",
       "  <tbody>\n",
       "    <tr>\n",
       "      <th>0</th>\n",
       "      <td>2020-05-20 15:43:38.364972+00:00</td>\n",
       "      <td>China</td>\n",
       "      <td>2020-04-19 00:00:00+00:00</td>\n",
       "      <td>2020-04-18 00:00:00+00:00</td>\n",
       "      <td>0</td>\n",
       "      <td>5720.0</td>\n",
       "    </tr>\n",
       "    <tr>\n",
       "      <th>1</th>\n",
       "      <td>2020-05-20 15:43:47.914346+00:00</td>\n",
       "      <td>China</td>\n",
       "      <td>2020-04-19 00:00:00+00:00</td>\n",
       "      <td>2020-04-13 00:00:00+00:00</td>\n",
       "      <td>1</td>\n",
       "      <td>8800.0</td>\n",
       "    </tr>\n",
       "    <tr>\n",
       "      <th>2</th>\n",
       "      <td>2020-05-20 15:36:56.866239+00:00</td>\n",
       "      <td>China</td>\n",
       "      <td>2020-04-19 00:00:00+00:00</td>\n",
       "      <td>2020-04-15 00:00:00+00:00</td>\n",
       "      <td>0</td>\n",
       "      <td>1760.0</td>\n",
       "    </tr>\n",
       "  </tbody>\n",
       "</table>\n",
       "</div>"
      ],
      "text/plain": [
       "                         timestamp country_code             last_order_ts  \\\n",
       "0 2020-05-20 15:43:38.364972+00:00        China 2020-04-19 00:00:00+00:00   \n",
       "1 2020-05-20 15:43:47.914346+00:00        China 2020-04-19 00:00:00+00:00   \n",
       "2 2020-05-20 15:36:56.866239+00:00        China 2020-04-19 00:00:00+00:00   \n",
       "\n",
       "             first_order_ts  total_orders  voucher_amount  \n",
       "0 2020-04-18 00:00:00+00:00             0          5720.0  \n",
       "1 2020-04-13 00:00:00+00:00             1          8800.0  \n",
       "2 2020-04-15 00:00:00+00:00             0          1760.0  "
      ]
     },
     "execution_count": 20,
     "metadata": {},
     "output_type": "execute_result"
    }
   ],
   "source": [
    "# Convert this column to `int`:\n",
    "df['total_orders'] = df['total_orders'].apply(lambda x: int(float(x or '0.0')))\n",
    "df[:3]"
   ]
  },
  {
   "cell_type": "markdown",
   "id": "particular-baking",
   "metadata": {},
   "source": [
    "---\n",
    "Now let's apply the same cleanup to the column `voucher_amount`"
   ]
  },
  {
   "cell_type": "code",
   "execution_count": 21,
   "id": "bored-samuel",
   "metadata": {},
   "outputs": [
    {
     "data": {
      "text/plain": [
       "0"
      ]
     },
     "execution_count": 21,
     "metadata": {},
     "output_type": "execute_result"
    }
   ],
   "source": [
    "# False (casted) objects:\n",
    "df['voucher_amount'].apply(lambda x: not x).sum()"
   ]
  },
  {
   "cell_type": "code",
   "execution_count": 22,
   "id": "fuzzy-cycling",
   "metadata": {},
   "outputs": [
    {
     "data": {
      "text/plain": [
       "29567"
      ]
     },
     "execution_count": 22,
     "metadata": {},
     "output_type": "execute_result"
    }
   ],
   "source": [
    "# NaN:\n",
    "df[ df['voucher_amount'].isna() ]['timestamp'].count()"
   ]
  },
  {
   "cell_type": "code",
   "execution_count": 23,
   "id": "saved-worthy",
   "metadata": {},
   "outputs": [
    {
     "data": {
      "text/plain": [
       "0"
      ]
     },
     "execution_count": 23,
     "metadata": {},
     "output_type": "execute_result"
    }
   ],
   "source": [
    "# Let's replace NaN values with zeros:\n",
    "df['voucher_amount'] = df['voucher_amount'].fillna(0)\n",
    "df[ df['voucher_amount'].isna() ]['timestamp'].count()"
   ]
  },
  {
   "cell_type": "code",
   "execution_count": 24,
   "id": "dressed-earthquake",
   "metadata": {},
   "outputs": [
    {
     "data": {
      "text/plain": [
       "True    511427\n",
       "Name: voucher_amount, dtype: int64"
      ]
     },
     "execution_count": 24,
     "metadata": {},
     "output_type": "execute_result"
    }
   ],
   "source": [
    "# Now, let's check if we can convert all floats to integer without data loss:\n",
    "df['voucher_amount'].apply(lambda x: float(x).is_integer()).value_counts()"
   ]
  },
  {
   "cell_type": "code",
   "execution_count": 25,
   "id": "inappropriate-syria",
   "metadata": {},
   "outputs": [
    {
     "data": {
      "text/html": [
       "<div>\n",
       "<style scoped>\n",
       "    .dataframe tbody tr th:only-of-type {\n",
       "        vertical-align: middle;\n",
       "    }\n",
       "\n",
       "    .dataframe tbody tr th {\n",
       "        vertical-align: top;\n",
       "    }\n",
       "\n",
       "    .dataframe thead th {\n",
       "        text-align: right;\n",
       "    }\n",
       "</style>\n",
       "<table border=\"1\" class=\"dataframe\">\n",
       "  <thead>\n",
       "    <tr style=\"text-align: right;\">\n",
       "      <th></th>\n",
       "      <th>timestamp</th>\n",
       "      <th>country_code</th>\n",
       "      <th>last_order_ts</th>\n",
       "      <th>first_order_ts</th>\n",
       "      <th>total_orders</th>\n",
       "      <th>voucher_amount</th>\n",
       "    </tr>\n",
       "  </thead>\n",
       "  <tbody>\n",
       "    <tr>\n",
       "      <th>0</th>\n",
       "      <td>2020-05-20 15:43:38.364972+00:00</td>\n",
       "      <td>China</td>\n",
       "      <td>2020-04-19 00:00:00+00:00</td>\n",
       "      <td>2020-04-18 00:00:00+00:00</td>\n",
       "      <td>0</td>\n",
       "      <td>5720</td>\n",
       "    </tr>\n",
       "    <tr>\n",
       "      <th>1</th>\n",
       "      <td>2020-05-20 15:43:47.914346+00:00</td>\n",
       "      <td>China</td>\n",
       "      <td>2020-04-19 00:00:00+00:00</td>\n",
       "      <td>2020-04-13 00:00:00+00:00</td>\n",
       "      <td>1</td>\n",
       "      <td>8800</td>\n",
       "    </tr>\n",
       "    <tr>\n",
       "      <th>2</th>\n",
       "      <td>2020-05-20 15:36:56.866239+00:00</td>\n",
       "      <td>China</td>\n",
       "      <td>2020-04-19 00:00:00+00:00</td>\n",
       "      <td>2020-04-15 00:00:00+00:00</td>\n",
       "      <td>0</td>\n",
       "      <td>1760</td>\n",
       "    </tr>\n",
       "  </tbody>\n",
       "</table>\n",
       "</div>"
      ],
      "text/plain": [
       "                         timestamp country_code             last_order_ts  \\\n",
       "0 2020-05-20 15:43:38.364972+00:00        China 2020-04-19 00:00:00+00:00   \n",
       "1 2020-05-20 15:43:47.914346+00:00        China 2020-04-19 00:00:00+00:00   \n",
       "2 2020-05-20 15:36:56.866239+00:00        China 2020-04-19 00:00:00+00:00   \n",
       "\n",
       "             first_order_ts  total_orders  voucher_amount  \n",
       "0 2020-04-18 00:00:00+00:00             0            5720  \n",
       "1 2020-04-13 00:00:00+00:00             1            8800  \n",
       "2 2020-04-15 00:00:00+00:00             0            1760  "
      ]
     },
     "execution_count": 25,
     "metadata": {},
     "output_type": "execute_result"
    }
   ],
   "source": [
    "# Now, let's fix the column `voucher_amount`:\n",
    "df['voucher_amount'] = df['voucher_amount'].apply(lambda x: int(float(x)))\n",
    "df[:3]"
   ]
  },
  {
   "cell_type": "markdown",
   "id": "duplicate-poker",
   "metadata": {},
   "source": [
    "---\n",
    "Now, let's explore the column `country_code`"
   ]
  },
  {
   "cell_type": "code",
   "execution_count": 26,
   "id": "geological-audience",
   "metadata": {},
   "outputs": [
    {
     "data": {
      "text/plain": [
       "China        169722\n",
       "Australia    134004\n",
       "Peru         106547\n",
       "Latvia       101154\n",
       "Name: country_code, dtype: int64"
      ]
     },
     "execution_count": 26,
     "metadata": {},
     "output_type": "execute_result"
    }
   ],
   "source": [
    "df['country_code'].value_counts()"
   ]
  },
  {
   "cell_type": "code",
   "execution_count": 27,
   "id": "streaming-final",
   "metadata": {},
   "outputs": [
    {
     "data": {
      "text/plain": [
       "0"
      ]
     },
     "execution_count": 27,
     "metadata": {},
     "output_type": "execute_result"
    }
   ],
   "source": [
    "# Check NaN:\n",
    "df['country_code'].isna().sum()"
   ]
  },
  {
   "cell_type": "markdown",
   "id": "female-citation",
   "metadata": {},
   "source": [
    "OK so this column is clean: all rows have a valid value."
   ]
  },
  {
   "cell_type": "markdown",
   "id": "indoor-example",
   "metadata": {},
   "source": [
    "---\n",
    "Let's save the cleaned data to a csv file."
   ]
  },
  {
   "cell_type": "code",
   "execution_count": 32,
   "id": "behind-agenda",
   "metadata": {},
   "outputs": [],
   "source": [
    "df.to_csv(f'{DATA_PATH}/data_clean.csv')"
   ]
  },
  {
   "cell_type": "code",
   "execution_count": 33,
   "id": "dental-parallel",
   "metadata": {},
   "outputs": [
    {
     "name": "stdout",
     "output_type": "stream",
     "text": [
      "data_clean.csv\tdata.parquet\r\n"
     ]
    }
   ],
   "source": [
    "! ls {DATA_PATH}"
   ]
  },
  {
   "cell_type": "code",
   "execution_count": null,
   "id": "featured-cursor",
   "metadata": {},
   "outputs": [],
   "source": []
  }
 ],
 "metadata": {
  "kernelspec": {
   "display_name": "Python 3",
   "language": "python",
   "name": "python3"
  },
  "language_info": {
   "codemirror_mode": {
    "name": "ipython",
    "version": 3
   },
   "file_extension": ".py",
   "mimetype": "text/x-python",
   "name": "python",
   "nbconvert_exporter": "python",
   "pygments_lexer": "ipython3",
   "version": "3.7.6"
  }
 },
 "nbformat": 4,
 "nbformat_minor": 5
}
